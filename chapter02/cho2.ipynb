{
 "cells": [
  {
   "cell_type": "code",
   "execution_count": 1,
   "metadata": {},
   "outputs": [],
   "source": [
    "import os\n",
    "import urllib.request"
   ]
  },
  {
   "cell_type": "code",
   "execution_count": 2,
   "metadata": {},
   "outputs": [
    {
     "data": {
      "text/plain": [
       "('the-verdict.txt', <http.client.HTTPMessage at 0x19dcda0dc60>)"
      ]
     },
     "execution_count": 2,
     "metadata": {},
     "output_type": "execute_result"
    }
   ],
   "source": [
    "# Download the file from the URL\n",
    "\n",
    "url = (\"https://raw.githubusercontent.com/rasbt/\"\n",
    "       \"LLMs-from-scratch/main/ch02/01_main-chapter-code/\"\n",
    "       \"the-verdict.txt\")\n",
    "file_path = \"the-verdict.txt\"\n",
    "urllib.request.urlretrieve(url, file_path)"
   ]
  },
  {
   "cell_type": "code",
   "execution_count": 3,
   "metadata": {},
   "outputs": [
    {
     "name": "stdout",
     "output_type": "stream",
     "text": [
      "Total number of character: 20479\n",
      "I HAD always thought Jack Gisburn rather a cheap genius--though a good fellow enough--so it was no \n"
     ]
    }
   ],
   "source": [
    "# read the file\n",
    "with open(\"the-verdict.txt\", \"r\", encoding=\"utf-8\") as f:\n",
    "    raw_text = f.read()\n",
    "print(\"Total number of character:\", len(raw_text))\n",
    "print(raw_text[:99])"
   ]
  },
  {
   "cell_type": "markdown",
   "metadata": {},
   "source": [
    "## BytePair Encoding"
   ]
  },
  {
   "cell_type": "code",
   "execution_count": 4,
   "metadata": {},
   "outputs": [],
   "source": [
    "# import byte pair encoding\n",
    "import tiktoken"
   ]
  },
  {
   "cell_type": "code",
   "execution_count": 5,
   "metadata": {},
   "outputs": [],
   "source": [
    "#  instantiate the BPE tokenizer\n",
    "tokenizer = tiktoken.get_encoding('gpt2')"
   ]
  },
  {
   "cell_type": "markdown",
   "metadata": {},
   "source": [
    "## Data sampling with a sliding window"
   ]
  },
  {
   "cell_type": "code",
   "execution_count": 6,
   "metadata": {},
   "outputs": [
    {
     "name": "stdout",
     "output_type": "stream",
     "text": [
      "Total number of tokens: 5145\n"
     ]
    }
   ],
   "source": [
    "# tokenize the-verdict.txt\n",
    "with open(\"the-verdict.txt\", \"r\", encoding=\"utf-8\") as f:\n",
    "    raw_text = f.read()\n",
    "\n",
    "tokenized_text = tokenizer.encode(raw_text)\n",
    "print(\"Total number of tokens:\", len(tokenized_text))\n"
   ]
  },
  {
   "cell_type": "code",
   "execution_count": 10,
   "metadata": {},
   "outputs": [
    {
     "name": "stdout",
     "output_type": "stream",
     "text": [
      "First 10 tokens and their corresponding characters:\n",
      "I,  H, AD,  always,  thought,  Jack,  G, is, burn,  rather, \n",
      "First 10 tokens:\n"
     ]
    },
    {
     "data": {
      "text/plain": [
       "[40, 367, 2885, 1464, 1807, 3619, 402, 271, 10899, 2138]"
      ]
     },
     "execution_count": 10,
     "metadata": {},
     "output_type": "execute_result"
    }
   ],
   "source": [
    "# print the first 10 tokens and their corresponding characters\n",
    "print(\"First 10 tokens and their corresponding characters:\")\n",
    "for i in range(10):\n",
    "    print(tokenizer.decode([tokenized_text[i]]), end=\", \")\n",
    "print()\n",
    "# print the first 10 tokens\n",
    "print(\"First 10 tokens:\")\n",
    "tokenized_text[:10]"
   ]
  },
  {
   "cell_type": "code",
   "execution_count": 7,
   "metadata": {},
   "outputs": [],
   "source": [
    "# implement dataloader\n",
    "import torch\n",
    "from torch.utils.data import Dataset, DataLoader\n",
    "\n",
    "class TextDataset(Dataset):\n",
    "    def __init__(self, text, tokenizer, max_length, stride):\n",
    "        self.input_ids = []\n",
    "        self.target_ids = []\n",
    "\n",
    "        token_ids = tokenizer.encode(text)\n",
    "        for i in range(0, len(token_ids) - max_length, stride):\n",
    "            input_chunk = token_ids[i:i+max_length]\n",
    "            target_chunk = token_ids[i+1:i+max_length+1]\n",
    "            self.input_ids.append(torch.tensor(input_chunk))\n",
    "            self.target_ids.append(torch.tensor(target_chunk))\n",
    "\n",
    "    def __len__(self):\n",
    "        return len(self.input_ids)\n",
    "\n",
    "    def __getitem__(self, idx):\n",
    "        return self.input_ids[idx], self.target_ids[idx]\n",
    "\n"
   ]
  },
  {
   "cell_type": "code",
   "execution_count": 8,
   "metadata": {},
   "outputs": [],
   "source": [
    "# define a dataloader\n",
    "def create_dataloader(text, max_length=256, stride=128, batch_size=4, \n",
    "                      shuffle=True, drop_last=True, num_workers=0):\n",
    "    tokenizer = tiktoken.get_encoding('gpt2')\n",
    "    dataset = TextDataset(text, tokenizer, max_length, stride)\n",
    "    dataloader = DataLoader(\n",
    "        dataset, \n",
    "        batch_size=batch_size, \n",
    "        shuffle=shuffle,\n",
    "        drop_last=drop_last, \n",
    "        num_workers=num_workers\n",
    "        )\n",
    "\n",
    "    return dataloader"
   ]
  },
  {
   "cell_type": "code",
   "execution_count": 11,
   "metadata": {},
   "outputs": [
    {
     "name": "stdout",
     "output_type": "stream",
     "text": [
      "Inputs:\n",
      " tensor([[   40,   367,  2885,  1464],\n",
      "        [ 1807,  3619,   402,   271],\n",
      "        [10899,  2138,   257,  7026],\n",
      "        [15632,   438,  2016,   257],\n",
      "        [  922,  5891,  1576,   438],\n",
      "        [  568,   340,   373,   645],\n",
      "        [ 1049,  5975,   284,   502],\n",
      "        [  284,  3285,   326,    11]])\n",
      "\n",
      "Targets:\n",
      " tensor([[  367,  2885,  1464,  1807],\n",
      "        [ 3619,   402,   271, 10899],\n",
      "        [ 2138,   257,  7026, 15632],\n",
      "        [  438,  2016,   257,   922],\n",
      "        [ 5891,  1576,   438,   568],\n",
      "        [  340,   373,   645,  1049],\n",
      "        [ 5975,   284,   502,   284],\n",
      "        [ 3285,   326,    11,   287]])\n"
     ]
    }
   ],
   "source": [
    "dataloader = create_dataloader(raw_text, batch_size=8, max_length=4, stride=4, shuffle=False)\n",
    "\n",
    "data_iter = iter(dataloader)\n",
    "inputs, targets = next(data_iter)\n",
    "print(\"Inputs:\\n\", inputs)\n",
    "print(\"\\nTargets:\\n\", targets)"
   ]
  },
  {
   "cell_type": "markdown",
   "metadata": {},
   "source": [
    "## Creating token embeddings"
   ]
  },
  {
   "cell_type": "code",
   "execution_count": 12,
   "metadata": {},
   "outputs": [],
   "source": [
    "vocab_size = 50257\n",
    "output_dim = 256\n",
    "\n",
    "token_embedding_layer = torch.nn.Embedding(vocab_size, output_dim)"
   ]
  },
  {
   "cell_type": "code",
   "execution_count": 13,
   "metadata": {},
   "outputs": [],
   "source": [
    "max_length = 4\n",
    "dataloader = create_dataloader(\n",
    "    raw_text, batch_size=8, max_length=max_length,\n",
    "    stride=max_length, shuffle=False\n",
    ")\n",
    "data_iter = iter(dataloader)\n",
    "inputs, targets = next(data_iter)"
   ]
  },
  {
   "cell_type": "code",
   "execution_count": 14,
   "metadata": {},
   "outputs": [
    {
     "name": "stdout",
     "output_type": "stream",
     "text": [
      "Token IDs:\n",
      " tensor([[   40,   367,  2885,  1464],\n",
      "        [ 1807,  3619,   402,   271],\n",
      "        [10899,  2138,   257,  7026],\n",
      "        [15632,   438,  2016,   257],\n",
      "        [  922,  5891,  1576,   438],\n",
      "        [  568,   340,   373,   645],\n",
      "        [ 1049,  5975,   284,   502],\n",
      "        [  284,  3285,   326,    11]])\n",
      "\n",
      "Inputs shape:\n",
      " torch.Size([8, 4])\n"
     ]
    }
   ],
   "source": [
    "print(\"Token IDs:\\n\", inputs)\n",
    "print(\"\\nInputs shape:\\n\", inputs.shape)"
   ]
  },
  {
   "cell_type": "code",
   "execution_count": 15,
   "metadata": {},
   "outputs": [
    {
     "name": "stdout",
     "output_type": "stream",
     "text": [
      "torch.Size([8, 4, 256])\n",
      "tensor([[[-1.0600e+00, -9.3302e-01, -2.2327e-01,  ..., -1.2109e+00,\n",
      "           1.2148e-01,  3.4232e-01],\n",
      "         [-5.9225e-01,  1.4231e+00,  4.2242e-01,  ..., -9.2771e-01,\n",
      "          -2.9253e-01,  7.7361e-01],\n",
      "         [-1.8892e+00, -2.3342e+00,  7.3579e-01,  ...,  1.2672e+00,\n",
      "          -9.5780e-01, -1.4971e+00],\n",
      "         [-5.0961e-01,  6.9639e-01, -2.2804e+00,  ...,  4.7866e-02,\n",
      "          -4.1974e-01,  7.2397e-01]],\n",
      "\n",
      "        [[ 8.2744e-01, -8.1513e-01, -1.2839e+00,  ...,  1.6208e+00,\n",
      "           3.8374e-01,  1.7807e+00],\n",
      "         [ 9.3822e-01,  1.1611e+00,  4.5063e-01,  ...,  2.6580e-01,\n",
      "          -1.4719e+00, -1.6002e+00],\n",
      "         [-4.9308e-01, -5.9309e-01,  3.1158e-01,  ...,  4.4791e-01,\n",
      "           1.4027e+00,  6.4769e-01],\n",
      "         [-2.0452e-01, -1.1304e+00, -2.5886e-01,  ..., -3.2454e-01,\n",
      "          -1.3746e+00, -9.4640e-02]],\n",
      "\n",
      "        [[-4.6878e-01, -1.1896e+00,  1.1188e-01,  ...,  1.1004e+00,\n",
      "          -1.9018e-01,  4.8035e-01],\n",
      "         [ 7.5792e-01, -1.0607e+00, -5.4467e-01,  ..., -1.1456e+00,\n",
      "           1.1644e+00,  3.9210e-01],\n",
      "         [ 1.6538e+00, -7.5233e-01,  1.4161e+00,  ...,  1.2082e+00,\n",
      "          -1.8575e+00, -1.5234e+00],\n",
      "         [-1.0174e+00, -1.4291e+00, -5.4693e-01,  ..., -3.7357e-01,\n",
      "          -4.1276e-01,  7.7095e-01]],\n",
      "\n",
      "        ...,\n",
      "\n",
      "        [[-2.4951e-01, -9.2738e-03,  1.1012e-01,  ...,  5.6485e-01,\n",
      "          -1.1354e+00,  1.0529e+00],\n",
      "         [-2.3647e-01, -1.3805e+00, -1.7427e+00,  ..., -2.6112e-01,\n",
      "           2.8463e-01, -1.1819e+00],\n",
      "         [ 3.5624e-01,  1.2809e+00, -2.7247e+00,  ..., -1.3549e+00,\n",
      "          -4.2334e-01, -3.4203e-01],\n",
      "         [ 2.0010e-03, -6.3313e-01,  8.7895e-02,  ..., -4.2671e-01,\n",
      "           1.2645e+00,  1.1618e+00]],\n",
      "\n",
      "        [[-1.1969e+00,  1.8663e+00,  1.9189e+00,  ...,  7.3656e-01,\n",
      "          -7.7398e-01,  4.5508e-01],\n",
      "         [-7.3907e-01,  6.2182e-01,  2.1779e-01,  ..., -2.2290e-01,\n",
      "           9.3019e-01, -4.4563e-01],\n",
      "         [-9.7419e-01, -7.4655e-01, -1.3474e+00,  ...,  9.9500e-01,\n",
      "          -1.0254e+00, -3.0663e+00],\n",
      "         [-6.7383e-02,  5.1807e-01,  2.1099e-02,  ...,  7.9265e-01,\n",
      "          -1.9111e+00,  2.1630e+00]],\n",
      "\n",
      "        [[-9.7419e-01, -7.4655e-01, -1.3474e+00,  ...,  9.9500e-01,\n",
      "          -1.0254e+00, -3.0663e+00],\n",
      "         [ 3.8091e-01, -1.7112e+00,  3.4321e-01,  ...,  1.5238e+00,\n",
      "           8.0374e-01,  4.9034e-01],\n",
      "         [ 7.6801e-01,  1.4367e-01, -4.1882e-01,  ...,  4.3469e-01,\n",
      "           2.3121e-01,  8.7391e-01],\n",
      "         [ 1.3263e+00, -8.6206e-01, -6.1328e-01,  ...,  1.6414e+00,\n",
      "          -1.8920e-01, -1.0817e+00]]], grad_fn=<EmbeddingBackward0>)\n"
     ]
    }
   ],
   "source": [
    "token_embeddings = token_embedding_layer(inputs)\n",
    "print(token_embeddings.shape)\n",
    "\n",
    "print(token_embeddings)"
   ]
  },
  {
   "cell_type": "code",
   "execution_count": 16,
   "metadata": {},
   "outputs": [
    {
     "name": "stdout",
     "output_type": "stream",
     "text": [
      "Parameter containing:\n",
      "tensor([[ 1.1103,  2.0699,  0.5742,  ...,  0.7350,  2.5275, -1.0930],\n",
      "        [ 1.0984, -0.6022,  0.8537,  ...,  0.4693,  0.9784, -0.3690],\n",
      "        [ 1.5486, -1.6799, -1.1305,  ...,  0.9061, -1.3600,  1.6787],\n",
      "        [-0.3629, -0.3601, -0.7042,  ..., -0.6867, -0.9837,  0.8112]],\n",
      "       requires_grad=True)\n"
     ]
    }
   ],
   "source": [
    "context_length = max_length\n",
    "pos_embedding_layer = torch.nn.Embedding(context_length, output_dim)\n",
    "\n",
    "print(pos_embedding_layer.weight)"
   ]
  },
  {
   "cell_type": "code",
   "execution_count": 17,
   "metadata": {},
   "outputs": [
    {
     "name": "stdout",
     "output_type": "stream",
     "text": [
      "torch.Size([4, 256])\n",
      "tensor([[ 1.1103,  2.0699,  0.5742,  ...,  0.7350,  2.5275, -1.0930],\n",
      "        [ 1.0984, -0.6022,  0.8537,  ...,  0.4693,  0.9784, -0.3690],\n",
      "        [ 1.5486, -1.6799, -1.1305,  ...,  0.9061, -1.3600,  1.6787],\n",
      "        [-0.3629, -0.3601, -0.7042,  ..., -0.6867, -0.9837,  0.8112]],\n",
      "       grad_fn=<EmbeddingBackward0>)\n"
     ]
    }
   ],
   "source": [
    "pos_embeddings = pos_embedding_layer(torch.arange(max_length))\n",
    "print(pos_embeddings.shape)\n",
    "\n",
    "print(pos_embeddings)"
   ]
  },
  {
   "cell_type": "code",
   "execution_count": 18,
   "metadata": {},
   "outputs": [
    {
     "name": "stdout",
     "output_type": "stream",
     "text": [
      "torch.Size([8, 4, 256])\n",
      "tensor([[[ 0.0503,  1.1369,  0.3509,  ..., -0.4759,  2.6490, -0.7507],\n",
      "         [ 0.5062,  0.8209,  1.2761,  ..., -0.4584,  0.6859,  0.4047],\n",
      "         [-0.3406, -4.0142, -0.3947,  ...,  2.1732, -2.3178,  0.1816],\n",
      "         [-0.8725,  0.3363, -2.9847,  ..., -0.6388, -1.4035,  1.5352]],\n",
      "\n",
      "        [[ 1.9377,  1.2547, -0.7097,  ...,  2.3558,  2.9113,  0.6877],\n",
      "         [ 2.0367,  0.5589,  1.3044,  ...,  0.7351, -0.4935, -1.9691],\n",
      "         [ 1.0555, -2.2730, -0.8189,  ...,  1.3540,  0.0427,  2.3264],\n",
      "         [-0.5674, -1.4905, -0.9631,  ..., -1.0112, -2.3583,  0.7166]],\n",
      "\n",
      "        [[ 0.6415,  0.8803,  0.6861,  ...,  1.8354,  2.3374, -0.6127],\n",
      "         [ 1.8564, -1.6628,  0.3091,  ..., -0.6763,  2.1428,  0.0231],\n",
      "         [ 3.2024, -2.4323,  0.2856,  ...,  2.1143, -3.2175,  0.1553],\n",
      "         [-1.3803, -1.7892, -1.2512,  ..., -1.0603, -1.3965,  1.5822]],\n",
      "\n",
      "        ...,\n",
      "\n",
      "        [[ 0.8608,  2.0606,  0.6843,  ...,  1.2999,  1.3922, -0.0401],\n",
      "         [ 0.8620, -1.9827, -0.8890,  ...,  0.2082,  1.2630, -1.5509],\n",
      "         [ 1.9049, -0.3990, -3.8552,  ..., -0.4488, -1.7833,  1.3366],\n",
      "         [-0.3609, -0.9932, -0.6163,  ..., -1.1134,  0.2807,  1.9730]],\n",
      "\n",
      "        [[-0.0866,  3.9362,  2.4931,  ...,  1.4716,  1.7536, -0.6379],\n",
      "         [ 0.3594,  0.0196,  1.0715,  ...,  0.2464,  1.9086, -0.8146],\n",
      "         [ 0.5744, -2.4265, -2.4779,  ...,  1.9011, -2.3855, -1.3876],\n",
      "         [-0.4303,  0.1580, -0.6831,  ...,  0.1059, -2.8948,  2.9743]],\n",
      "\n",
      "        [[ 0.1361,  1.3233, -0.7731,  ...,  1.7300,  1.5021, -4.1593],\n",
      "         [ 1.4794, -2.3134,  1.1969,  ...,  1.9931,  1.7821,  0.1214],\n",
      "         [ 2.3166, -1.5363, -1.5493,  ...,  1.3408, -1.1288,  2.5526],\n",
      "         [ 0.9634, -1.2221, -1.3175,  ...,  0.9547, -1.1729, -0.2705]]],\n",
      "       grad_fn=<AddBackward0>)\n"
     ]
    }
   ],
   "source": [
    "input_embeddings = token_embeddings + pos_embeddings\n",
    "print(input_embeddings.shape)\n",
    "\n",
    "print(input_embeddings)"
   ]
  },
  {
   "cell_type": "code",
   "execution_count": null,
   "metadata": {},
   "outputs": [],
   "source": []
  }
 ],
 "metadata": {
  "kernelspec": {
   "display_name": ".venv",
   "language": "python",
   "name": "python3"
  },
  "language_info": {
   "codemirror_mode": {
    "name": "ipython",
    "version": 3
   },
   "file_extension": ".py",
   "mimetype": "text/x-python",
   "name": "python",
   "nbconvert_exporter": "python",
   "pygments_lexer": "ipython3",
   "version": "3.10.16"
  }
 },
 "nbformat": 4,
 "nbformat_minor": 2
}
